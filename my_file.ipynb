{
 "cells": [
  {
   "cell_type": "code",
   "execution_count": 10,
   "metadata": {},
   "outputs": [
    {
     "ename": "ModuleNotFoundError",
     "evalue": "No module named 'summarize'",
     "output_type": "error",
     "traceback": [
      "\u001b[0;31m---------------------------------------------------------------------------\u001b[0m",
      "\u001b[0;31mModuleNotFoundError\u001b[0m                       Traceback (most recent call last)",
      "\u001b[0;32m<ipython-input-10-3a8e02cbfdeb>\u001b[0m in \u001b[0;36m<module>\u001b[0;34m\u001b[0m\n\u001b[1;32m     19\u001b[0m \u001b[0;34m\u001b[0m\u001b[0m\n\u001b[1;32m     20\u001b[0m \u001b[0;32mimport\u001b[0m \u001b[0macquire\u001b[0m\u001b[0;34m\u001b[0m\u001b[0;34m\u001b[0m\u001b[0m\n\u001b[0;32m---> 21\u001b[0;31m \u001b[0;32mimport\u001b[0m \u001b[0msummarize\u001b[0m\u001b[0;34m\u001b[0m\u001b[0;34m\u001b[0m\u001b[0m\n\u001b[0m\u001b[1;32m     22\u001b[0m \u001b[0;31m#import prepare\u001b[0m\u001b[0;34m\u001b[0m\u001b[0;34m\u001b[0m\u001b[0;34m\u001b[0m\u001b[0m\n",
      "\u001b[0;31mModuleNotFoundError\u001b[0m: No module named 'summarize'"
     ]
    }
   ],
   "source": [
    "# ignore warnings\n",
    "import warnings\n",
    "warnings.filterwarnings(\"ignore\")\n",
    "\n",
    "# Wrangling\n",
    "import pandas as pd\n",
    "import numpy as np\n",
    "\n",
    "# Exploring\n",
    "import scipy.stats as stats\n",
    "\n",
    "# Visualizing\n",
    "%matplotlib inline\n",
    "import matplotlib.pyplot as plt\n",
    "import seaborn as sns\n",
    "\n",
    "# default pandas decimal number display format\n",
    "pd.options.display.float_format = '{:20,.2f}'.format\n",
    "\n",
    "import acquire\n",
    "#import summarize\n",
    "#import prepare"
   ]
  },
  {
   "cell_type": "code",
   "execution_count": 20,
   "metadata": {},
   "outputs": [],
   "source": [
    "df= acquire.get_zillow_data()"
   ]
  },
  {
   "cell_type": "code",
   "execution_count": 21,
   "metadata": {},
   "outputs": [
    {
     "name": "stdout",
     "output_type": "stream",
     "text": [
      "<class 'pandas.core.frame.DataFrame'>\n",
      "RangeIndex: 119 entries, 0 to 118\n",
      "Data columns (total 79 columns):\n",
      " #   Column                        Non-Null Count  Dtype  \n",
      "---  ------                        --------------  -----  \n",
      " 0   Unnamed: 0                    119 non-null    int64  \n",
      " 1   id                            119 non-null    int64  \n",
      " 2   parcelid                      119 non-null    int64  \n",
      " 3   airconditioningtypeid         119 non-null    float64\n",
      " 4   architecturalstyletypeid      119 non-null    float64\n",
      " 5   basementsqft                  0 non-null      float64\n",
      " 6   bathroomcnt                   119 non-null    float64\n",
      " 7   bedroomcnt                    119 non-null    float64\n",
      " 8   buildingclasstypeid           0 non-null      float64\n",
      " 9   buildingqualitytypeid         0 non-null      float64\n",
      " 10  calculatedbathnbr             119 non-null    float64\n",
      " 11  decktypeid                    0 non-null      float64\n",
      " 12  finishedfloor1squarefeet      0 non-null      float64\n",
      " 13  calculatedfinishedsquarefeet  119 non-null    float64\n",
      " 14  finishedsquarefeet12          119 non-null    float64\n",
      " 15  finishedsquarefeet13          0 non-null      float64\n",
      " 16  finishedsquarefeet15          0 non-null      float64\n",
      " 17  finishedsquarefeet50          0 non-null      float64\n",
      " 18  finishedsquarefeet6           0 non-null      float64\n",
      " 19  fips                          119 non-null    float64\n",
      " 20  fireplacecnt                  0 non-null      float64\n",
      " 21  fullbathcnt                   119 non-null    float64\n",
      " 22  garagecarcnt                  119 non-null    float64\n",
      " 23  garagetotalsqft               119 non-null    float64\n",
      " 24  hashottuborspa                1 non-null      float64\n",
      " 25  heatingorsystemtypeid         119 non-null    float64\n",
      " 26  latitude                      119 non-null    float64\n",
      " 27  longitude                     119 non-null    float64\n",
      " 28  lotsizesquarefeet             33 non-null     float64\n",
      " 29  poolcnt                       93 non-null     float64\n",
      " 30  poolsizesum                   0 non-null      float64\n",
      " 31  pooltypeid10                  0 non-null      float64\n",
      " 32  pooltypeid2                   1 non-null      float64\n",
      " 33  pooltypeid7                   92 non-null     float64\n",
      " 34  propertycountylandusecode     119 non-null    int64  \n",
      " 35  propertylandusetypeid         119 non-null    float64\n",
      " 36  propertyzoningdesc            0 non-null      float64\n",
      " 37  rawcensustractandblock        119 non-null    float64\n",
      " 38  regionidcity                  118 non-null    float64\n",
      " 39  regionidcounty                119 non-null    float64\n",
      " 40  regionidneighborhood          13 non-null     float64\n",
      " 41  regionidzip                   119 non-null    float64\n",
      " 42  roomcnt                       119 non-null    float64\n",
      " 43  storytypeid                   0 non-null      float64\n",
      " 44  threequarterbathnbr           49 non-null     float64\n",
      " 45  typeconstructiontypeid        116 non-null    float64\n",
      " 46  unitcnt                       0 non-null      float64\n",
      " 47  yardbuildingsqft17            0 non-null      float64\n",
      " 48  yardbuildingsqft26            0 non-null      float64\n",
      " 49  yearbuilt                     119 non-null    float64\n",
      " 50  numberofstories               119 non-null    float64\n",
      " 51  fireplaceflag                 53 non-null     float64\n",
      " 52  structuretaxvaluedollarcnt    119 non-null    float64\n",
      " 53  taxvaluedollarcnt             119 non-null    float64\n",
      " 54  assessmentyear                119 non-null    float64\n",
      " 55  landtaxvaluedollarcnt         119 non-null    float64\n",
      " 56  taxamount                     119 non-null    float64\n",
      " 57  taxdelinquencyflag            1 non-null      object \n",
      " 58  taxdelinquencyyear            1 non-null      float64\n",
      " 59  censustractandblock           119 non-null    float64\n",
      " 60  airconditioningtypeid.1       119 non-null    int64  \n",
      " 61  airconditioningdesc           119 non-null    object \n",
      " 62  architecturalstyletypeid.1    119 non-null    int64  \n",
      " 63  architecturalstyledesc        119 non-null    object \n",
      " 64  heatingorsystemtypeid.1       119 non-null    int64  \n",
      " 65  heatingorsystemdesc           119 non-null    object \n",
      " 66  propertylandusetypeid.1       119 non-null    int64  \n",
      " 67  propertylandusedesc           119 non-null    object \n",
      " 68  id.1                          119 non-null    int64  \n",
      " 69  parcelid.1                    119 non-null    int64  \n",
      " 70  logerror                      119 non-null    float64\n",
      " 71  transactiondate               119 non-null    object \n",
      " 72  buildingclasstypeid.1         0 non-null      float64\n",
      " 73  buildingclassdesc             0 non-null      float64\n",
      " 74  storytypeid.1                 0 non-null      float64\n",
      " 75  storydesc                     0 non-null      float64\n",
      " 76  typeconstructiontypeid.1      116 non-null    float64\n",
      " 77  typeconstructiondesc          116 non-null    object \n",
      " 78  parcelid.2                    119 non-null    int64  \n",
      "dtypes: float64(61), int64(11), object(7)\n",
      "memory usage: 73.6+ KB\n"
     ]
    }
   ],
   "source": [
    "df.info()"
   ]
  },
  {
   "cell_type": "code",
   "execution_count": 23,
   "metadata": {},
   "outputs": [
    {
     "data": {
      "text/plain": [
       "(119, 79)"
      ]
     },
     "execution_count": 23,
     "metadata": {},
     "output_type": "execute_result"
    }
   ],
   "source": [
    "df.shape"
   ]
  },
  {
   "cell_type": "code",
   "execution_count": null,
   "metadata": {},
   "outputs": [],
   "source": []
  },
  {
   "cell_type": "code",
   "execution_count": null,
   "metadata": {},
   "outputs": [],
   "source": []
  },
  {
   "cell_type": "code",
   "execution_count": null,
   "metadata": {},
   "outputs": [],
   "source": []
  }
 ],
 "metadata": {
  "kernelspec": {
   "display_name": "Python 3",
   "language": "python",
   "name": "python3"
  },
  "language_info": {
   "codemirror_mode": {
    "name": "ipython",
    "version": 3
   },
   "file_extension": ".py",
   "mimetype": "text/x-python",
   "name": "python",
   "nbconvert_exporter": "python",
   "pygments_lexer": "ipython3",
   "version": "3.7.6"
  }
 },
 "nbformat": 4,
 "nbformat_minor": 4
}
