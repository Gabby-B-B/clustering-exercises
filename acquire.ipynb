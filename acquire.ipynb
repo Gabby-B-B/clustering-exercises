{
 "cells": [
  {
   "cell_type": "code",
   "execution_count": 1,
   "metadata": {},
   "outputs": [],
   "source": [
    "import pandas as pd\n",
    "import numpy as np\n",
    "import os\n",
    "\n",
    "from env import host, user, password"
   ]
  },
  {
   "cell_type": "code",
   "execution_count": 3,
   "metadata": {},
   "outputs": [],
   "source": [
    "def get_connection(db, user=user, host=host, password=password):\n",
    "    return f'mysql+pymysql://{user}:{password}@{host}/{db}'"
   ]
  },
  {
   "cell_type": "code",
   "execution_count": 32,
   "metadata": {},
   "outputs": [
    {
     "name": "stdout",
     "output_type": "stream",
     "text": [
      "<class 'pandas.core.frame.DataFrame'>\n",
      "RangeIndex: 119 entries, 0 to 118\n",
      "Data columns (total 78 columns):\n",
      " #   Column                        Non-Null Count  Dtype  \n",
      "---  ------                        --------------  -----  \n",
      " 0   id                            119 non-null    int64  \n",
      " 1   parcelid                      119 non-null    int64  \n",
      " 2   airconditioningtypeid         119 non-null    float64\n",
      " 3   architecturalstyletypeid      119 non-null    float64\n",
      " 4   basementsqft                  0 non-null      object \n",
      " 5   bathroomcnt                   119 non-null    float64\n",
      " 6   bedroomcnt                    119 non-null    float64\n",
      " 7   buildingclasstypeid           0 non-null      object \n",
      " 8   buildingqualitytypeid         0 non-null      object \n",
      " 9   calculatedbathnbr             119 non-null    float64\n",
      " 10  decktypeid                    0 non-null      object \n",
      " 11  finishedfloor1squarefeet      0 non-null      object \n",
      " 12  calculatedfinishedsquarefeet  119 non-null    float64\n",
      " 13  finishedsquarefeet12          119 non-null    float64\n",
      " 14  finishedsquarefeet13          0 non-null      object \n",
      " 15  finishedsquarefeet15          0 non-null      object \n",
      " 16  finishedsquarefeet50          0 non-null      object \n",
      " 17  finishedsquarefeet6           0 non-null      object \n",
      " 18  fips                          119 non-null    float64\n",
      " 19  fireplacecnt                  0 non-null      object \n",
      " 20  fullbathcnt                   119 non-null    float64\n",
      " 21  garagecarcnt                  119 non-null    float64\n",
      " 22  garagetotalsqft               119 non-null    float64\n",
      " 23  hashottuborspa                1 non-null      float64\n",
      " 24  heatingorsystemtypeid         119 non-null    float64\n",
      " 25  latitude                      119 non-null    float64\n",
      " 26  longitude                     119 non-null    float64\n",
      " 27  lotsizesquarefeet             33 non-null     float64\n",
      " 28  poolcnt                       93 non-null     float64\n",
      " 29  poolsizesum                   0 non-null      object \n",
      " 30  pooltypeid10                  0 non-null      object \n",
      " 31  pooltypeid2                   1 non-null      float64\n",
      " 32  pooltypeid7                   92 non-null     float64\n",
      " 33  propertycountylandusecode     119 non-null    object \n",
      " 34  propertylandusetypeid         119 non-null    float64\n",
      " 35  propertyzoningdesc            0 non-null      object \n",
      " 36  rawcensustractandblock        119 non-null    float64\n",
      " 37  regionidcity                  118 non-null    float64\n",
      " 38  regionidcounty                119 non-null    float64\n",
      " 39  regionidneighborhood          13 non-null     float64\n",
      " 40  regionidzip                   119 non-null    float64\n",
      " 41  roomcnt                       119 non-null    float64\n",
      " 42  storytypeid                   0 non-null      object \n",
      " 43  threequarterbathnbr           49 non-null     float64\n",
      " 44  typeconstructiontypeid        116 non-null    float64\n",
      " 45  unitcnt                       0 non-null      object \n",
      " 46  yardbuildingsqft17            0 non-null      object \n",
      " 47  yardbuildingsqft26            0 non-null      object \n",
      " 48  yearbuilt                     119 non-null    float64\n",
      " 49  numberofstories               119 non-null    float64\n",
      " 50  fireplaceflag                 53 non-null     float64\n",
      " 51  structuretaxvaluedollarcnt    119 non-null    float64\n",
      " 52  taxvaluedollarcnt             119 non-null    float64\n",
      " 53  assessmentyear                119 non-null    float64\n",
      " 54  landtaxvaluedollarcnt         119 non-null    float64\n",
      " 55  taxamount                     119 non-null    float64\n",
      " 56  taxdelinquencyflag            1 non-null      object \n",
      " 57  taxdelinquencyyear            1 non-null      float64\n",
      " 58  censustractandblock           119 non-null    float64\n",
      " 59  airconditioningtypeid         119 non-null    int64  \n",
      " 60  airconditioningdesc           119 non-null    object \n",
      " 61  architecturalstyletypeid      119 non-null    int64  \n",
      " 62  architecturalstyledesc        119 non-null    object \n",
      " 63  heatingorsystemtypeid         119 non-null    int64  \n",
      " 64  heatingorsystemdesc           119 non-null    object \n",
      " 65  propertylandusetypeid         119 non-null    int64  \n",
      " 66  propertylandusedesc           119 non-null    object \n",
      " 67  id                            119 non-null    int64  \n",
      " 68  parcelid                      119 non-null    int64  \n",
      " 69  logerror                      119 non-null    float64\n",
      " 70  transactiondate               119 non-null    object \n",
      " 71  buildingclasstypeid           0 non-null      object \n",
      " 72  buildingclassdesc             0 non-null      object \n",
      " 73  storytypeid                   0 non-null      object \n",
      " 74  storydesc                     0 non-null      object \n",
      " 75  typeconstructiontypeid        116 non-null    float64\n",
      " 76  typeconstructiondesc          116 non-null    object \n",
      " 77  parcelid                      119 non-null    int64  \n",
      "dtypes: float64(40), int64(9), object(29)\n",
      "memory usage: 72.6+ KB\n"
     ]
    }
   ],
   "source": [
    "sql_query = '''\n",
    "SELECT * FROM properties_2017\n",
    "LEFT JOIN airconditioningtype ON properties_2017.airconditioningtypeid= airconditioningtype.airconditioningtypeid\n",
    "LEFT JOIN architecturalstyletype ON properties_2017.architecturalstyletypeid = architecturalstyletype.architecturalstyletypeid\n",
    "LEFT JOIN heatingorsystemtype ON properties_2017.heatingorsystemtypeid = heatingorsystemtype.heatingorsystemtypeid\n",
    "LEFT JOIN propertylandusetype ON properties_2017.propertylandusetypeid = propertylandusetype.propertylandusetypeid\n",
    "LEFT JOIN predictions_2017 ON properties_2017.parcelid = predictions_2017.parcelid\n",
    "LEFT JOIN buildingclasstype ON properties_2017.buildingclasstypeid = buildingclasstype.buildingclasstypeid\n",
    "LEFT JOIN storytype ON properties_2017.storytypeid = storytype.storytypeid\n",
    "LEFT JOIN typeconstructiontype ON properties_2017.typeconstructiontypeid = typeconstructiontype.typeconstructiontypeid\n",
    "LEFT JOIN unique_properties ON properties_2017.parcelid = unique_properties.parcelid\n",
    "WHERE transactiondate LIKE '2017-%%-%%'\n",
    "AND WHERE longitude IS NOT NULL AND WHERE latitude IS NOT NULL\n",
    "            '''\n",
    "df = pd.read_sql(sql_query, get_connection('zillow'))\n",
    "df.to_csv('zillow_df.csv')\n",
    "df.info()"
   ]
  },
  {
   "cell_type": "code",
   "execution_count": 2,
   "metadata": {},
   "outputs": [],
   "source": [
    "def get_zillow_data():\n",
    "    filename = \"zillow_df.csv\"\n",
    "    if os.path.isfile(filename):\n",
    "        return pd.read_csv(filename)\n",
    "    else:\n",
    "        # read the SQL query into a dataframe\n",
    "        df = pd.read_sql(''' SELECT * FROM properties_2017\n",
    "LEFT JOIN airconditioningtype ON properties_2017.airconditioningtypeid= airconditioningtype.airconditioningtypeid\n",
    "LEFT JOIN architecturalstyletype ON properties_2017.architecturalstyletypeid = architecturalstyletype.architecturalstyletypeid\n",
    "LEFT JOIN heatingorsystemtype ON properties_2017.heatingorsystemtypeid = heatingorsystemtype.heatingorsystemtypeid\n",
    "LEFT JOIN propertylandusetype ON properties_2017.propertylandusetypeid = propertylandusetype.propertylandusetypeid\n",
    "LEFT JOIN predictions_2017 ON properties_2017.parcelid = predictions_2017.parcelid\n",
    "LEFT JOIN buildingclasstype ON properties_2017.buildingclasstypeid = buildingclasstype.buildingclasstypeid\n",
    "LEFT JOIN storytype ON properties_2017.storytypeid = storytype.storytypeid\n",
    "LEFT JOIN typeconstructiontype ON properties_2017.typeconstructiontypeid = typeconstructiontype.typeconstructiontypeid\n",
    "LEFT JOIN unique_properties ON properties_2017.parcelid = unique_properties.parcelid\n",
    "WHERE transactiondate LIKE '2017-%%-%%'\n",
    "AND WHERE longitude IS NOT NULL AND WHERE latitude IS NOT NULL''', get_connection('zillow'))\n",
    "        # Write that dataframe to disk for later. Called \"caching\" the data for later.\n",
    "        df.to_file(filename)\n",
    "        # Return the dataframe to the calling code\n",
    "        return df"
   ]
  },
  {
   "cell_type": "code",
   "execution_count": 34,
   "metadata": {},
   "outputs": [],
   "source": [
    "data= get_zillow_data()"
   ]
  },
  {
   "cell_type": "code",
   "execution_count": 36,
   "metadata": {},
   "outputs": [
    {
     "data": {
      "text/plain": [
       "(119, 79)"
      ]
     },
     "execution_count": 36,
     "metadata": {},
     "output_type": "execute_result"
    }
   ],
   "source": [
    "data.shape"
   ]
  },
  {
   "cell_type": "code",
   "execution_count": null,
   "metadata": {},
   "outputs": [],
   "source": [
    "# look at types of joins"
   ]
  }
 ],
 "metadata": {
  "kernelspec": {
   "display_name": "Python 3",
   "language": "python",
   "name": "python3"
  },
  "language_info": {
   "codemirror_mode": {
    "name": "ipython",
    "version": 3
   },
   "file_extension": ".py",
   "mimetype": "text/x-python",
   "name": "python",
   "nbconvert_exporter": "python",
   "pygments_lexer": "ipython3",
   "version": "3.7.6"
  }
 },
 "nbformat": 4,
 "nbformat_minor": 4
}
